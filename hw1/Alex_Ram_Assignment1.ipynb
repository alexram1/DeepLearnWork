{
 "cells": [
  {
   "cell_type": "code",
   "execution_count": 95,
   "metadata": {},
   "outputs": [],
   "source": [
    "from keras.applications.resnet50 import ResNet50 \n",
    "from keras.preprocessing.image import img_to_array\n",
    "from IPython.display import Image\n",
    "import cv2\n",
    "import random\n",
    "import numpy as np\n",
    "from keras.applications.resnet50 import preprocess_input, decode_predictions\n",
    "from keras.models import Model\n",
    "import tensorflow as tf\n",
    "from sklearn.preprocessing import LabelEncoder\n",
    "from keras.utils import np_utils\n",
    "from keras.wrappers.scikit_learn import KerasClassifier\n",
    "from sklearn.model_selection import KFold\n",
    "from sklearn.model_selection import cross_val_score\n",
    "from keras.models import Sequential"
   ]
  },
  {
   "cell_type": "code",
   "execution_count": 106,
   "metadata": {},
   "outputs": [],
   "source": [
    "#code bellow was inspired by this tutorial: https://www.pyimagesearch.com/2017/12/11/image-classification-with-keras-and-deep-learning/\n",
    "#This will take the images and covert it to an array, also the labels\n",
    "#path to the pictures\n",
    "PATH = \"../../png/\"\n",
    "data = []\n",
    "labels = []\n",
    " \n",
    "# grab the image paths and randomly shuffle them\n",
    "imagePaths = open(PATH + \"filelist.txt\").readlines()\n",
    "\n",
    "imagePaths = sorted(list(imagePaths))\n",
    "random.seed(42)\n",
    "random.shuffle(imagePaths)\n",
    "\n",
    "imagePaths2 = []\n",
    "for i in range(100):\n",
    "    imagePaths2.append(imagePaths[i])\n",
    "imagePaths = imagePaths2\n",
    "\n",
    "#this shows the image itself\n",
    "#Image(filename = PATH + \"airplane/1.png\", width=100, height=100)\n",
    "\n",
    "for imagePath in imagePaths:\n",
    "    image = cv2.imread(PATH + imagePath.strip())\n",
    "    image = cv2.resize(image, (224, 224))\n",
    "    image = img_to_array(image)\n",
    "    image = np.expand_dims(image, axis=0)\n",
    "    image = preprocess_input(image)\n",
    "\n",
    "    data.append(image)\n",
    "    labels.append(imagePath.split(\"/\"))\n",
    "    labels[-1][1] = labels[-1][1].strip()\n"
   ]
  },
  {
   "cell_type": "code",
   "execution_count": 107,
   "metadata": {},
   "outputs": [],
   "source": [
    "labels = np.array(labels)\n",
    "uniqueLabels = set(labels[:,0])"
   ]
  },
  {
   "cell_type": "code",
   "execution_count": 108,
   "metadata": {},
   "outputs": [],
   "source": [
    "model = ResNet50(include_top=False, weights='imagenet')"
   ]
  },
  {
   "cell_type": "code",
   "execution_count": 110,
   "metadata": {},
   "outputs": [],
   "source": [
    "#for i in range(len(labels)):\n",
    "features = []\n",
    "for i in range(len(data)):\n",
    "    features.append(model.predict(data[i]))\n"
   ]
  },
  {
   "cell_type": "code",
   "execution_count": 112,
   "metadata": {},
   "outputs": [
    {
     "data": {
      "text/plain": [
       "array([0.3528141 , 0.1362741 , 0.        , ..., 0.01323747, 0.73973536,\n",
       "       0.70695996], dtype=float32)"
      ]
     },
     "execution_count": 112,
     "metadata": {},
     "output_type": "execute_result"
    }
   ],
   "source": [
    "features = np.squeeze(features)\n"
   ]
  },
  {
   "cell_type": "code",
   "execution_count": 117,
   "metadata": {},
   "outputs": [],
   "source": [
    "def model_predictor():\n",
    "    model = Sequential()\n",
    "    model.add(Dense(84, input_dim=2048, activation='softmax'))\n",
    "    model.compile(optimizer='rmsprop', loss='categorical_crossentropy', metrics=['accuracy'])\n",
    "    return model"
   ]
  },
  {
   "cell_type": "code",
   "execution_count": 118,
   "metadata": {},
   "outputs": [
    {
     "name": "stdout",
     "output_type": "stream",
     "text": [
      "Baseline: 8.00% (7.48%)\n"
     ]
    }
   ],
   "source": [
    "#code bellow inspired by https://machinelearningmastery.com/multi-class-classification-tutorial-keras-deep-learning-library/\n",
    "# encode class values as integers\n",
    "encoder = LabelEncoder()\n",
    "encoder.fit(labels[:,0])\n",
    "encoded_Y = encoder.transform(labels[:,0])\n",
    "# convert integers to dummy variables (i.e. one hot encoded)\n",
    "dummy_y = np_utils.to_categorical(encoded_Y)\n",
    "\n",
    "##NOTE TO SELF: CHANGE EPOCHS AND BATCH SIZE\n",
    "estimator = KerasClassifier(build_fn=model_predictor, epochs=20, batch_size=5, verbose=0)\n",
    "\n",
    "#using K Folds maks it so i dont need to split the data into testing and training sets\n",
    "kfold = KFold(n_splits=10, shuffle=True, random_state=42)\n",
    "results = cross_val_score(estimator, features, dummy_y[0:100], cv=kfold)\n",
    "print(\"Baseline: %.2f%% (%.2f%%)\" % (results.mean()*100, results.std()*100))"
   ]
  },
  {
   "cell_type": "code",
   "execution_count": 94,
   "metadata": {},
   "outputs": [
    {
     "data": {
      "text/plain": [
       "(20, 2048)"
      ]
     },
     "execution_count": 94,
     "metadata": {},
     "output_type": "execute_result"
    }
   ],
   "source": []
  },
  {
   "cell_type": "code",
   "execution_count": null,
   "metadata": {},
   "outputs": [],
   "source": []
  }
 ],
 "metadata": {
  "kernelspec": {
   "display_name": "Python 3",
   "language": "python",
   "name": "python3"
  },
  "language_info": {
   "codemirror_mode": {
    "name": "ipython",
    "version": 3
   },
   "file_extension": ".py",
   "mimetype": "text/x-python",
   "name": "python",
   "nbconvert_exporter": "python",
   "pygments_lexer": "ipython3",
   "version": "3.6.4"
  }
 },
 "nbformat": 4,
 "nbformat_minor": 2
}
