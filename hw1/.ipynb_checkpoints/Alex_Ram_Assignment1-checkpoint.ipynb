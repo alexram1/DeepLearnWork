{
 "cells": [
  {
   "cell_type": "markdown",
   "metadata": {},
   "source": [
    "## Assignment 1 \n",
    "#### CS395: Deep learning\n",
    "#### 2/26/18\n",
    "#### By Alex Ram\n",
    "\n",
    "### The code bellow is used for all three parts"
   ]
  },
  {
   "cell_type": "code",
   "execution_count": null,
   "metadata": {},
   "outputs": [],
   "source": [
    "#imports\n",
    "from keras.applications.resnet50 import ResNet50 \n",
    "from keras.preprocessing.image import img_to_array\n",
    "from IPython.display import Image\n",
    "import cv2\n",
    "import random\n",
    "import numpy as np\n",
    "from keras.applications.resnet50 import preprocess_input\n",
    "from sklearn.preprocessing import LabelEncoder\n",
    "from keras.utils import np_utils\n",
    "from keras.wrappers.scikit_learn import KerasClassifier\n",
    "from sklearn.model_selection import KFold\n",
    "from sklearn.model_selection import cross_val_score\n",
    "from keras.models import Sequential\n",
    "from keras.layers import Dense\n",
    "from keras.models import Model\n",
    "from keras.layers import Dense, GlobalAveragePooling2D"
   ]
  },
  {
   "cell_type": "code",
   "execution_count": null,
   "metadata": {},
   "outputs": [],
   "source": [
    "#code bellow was inspired by this tutorial: https://www.pyimagesearch.com/2017/12/11/image-classification-with-keras-and-deep-learning/\n",
    "#This will take the images and covert it to an array, also the labels\n",
    "#path to the pictures\n",
    "PATH = \"../../png/\"\n",
    "trainData = []\n",
    "trainLabels = []\n",
    "\n",
    "testData = []\n",
    "testLabels = []\n",
    " \n",
    "# grab the image paths and randomly shuffle them\n",
    "imagePaths = open(PATH + \"filelist.txt\").readlines()\n",
    "\n",
    "def convertImageToArray(imagePath):\n",
    "    image = cv2.imread(PATH + imagePath.strip())\n",
    "    image = cv2.resize(image, (224, 224))\n",
    "    image = img_to_array(image)\n",
    "    image = np.expand_dims(image, axis=0)\n",
    "    image = preprocess_input(image)\n",
    "    return image\n",
    "\n",
    "#len(imagePaths)\n",
    "for i in range(160):\n",
    "    if i % 80 < 60:\n",
    "        #image coverted to array and appended to data set\n",
    "        trainData.append(convertImageToArray(imagePaths[i]))\n",
    "        \n",
    "        #labels of images appended to labels dataset\n",
    "        trainLabels.append(imagePaths[i].split(\"/\"))\n",
    "        trainLabels[-1][1] = trainLabels[-1][1].strip()\n",
    "    else:\n",
    "        testData.append(convertImageToArray(imagePaths[i]))\n",
    "        \n",
    "        testLabels.append(imagePaths[i].split(\"/\"))\n",
    "        testLabels[-1][1] = testLabels[-1][1].strip()\n",
    "        \n",
    "#covert label lists to numpy arrays to use later\n",
    "trainLabels = np.array(trainLabels)\n",
    "testLabels = np.array(testLabels)\n",
    "#get a set of just each type of lable\n",
    "uniqueLabels = set(trainLabels[:,0])"
   ]
  },
  {
   "cell_type": "markdown",
   "metadata": {},
   "source": [
    "## Part 1:\n",
    "### Using a pretrained network on imageNet to classify the sketches data set by training a classifier "
   ]
  },
  {
   "cell_type": "code",
   "execution_count": null,
   "metadata": {},
   "outputs": [],
   "source": [
    "#model found here: https://keras.io/applications/#resnet50\n",
    "model = ResNet50(include_top=False, weights='imagenet')"
   ]
  },
  {
   "cell_type": "code",
   "execution_count": null,
   "metadata": {
    "collapsed": true
   },
   "outputs": [],
   "source": [
    "trainFeatures = []\n",
    "testFeatures = []\n",
    "\n",
    "#feature extraction from the image arrays using the resnet50 model\n",
    "for i in range(len(trainData)):\n",
    "    trainFeatures.append(model.predict(trainData[i]))\n",
    "    \n",
    "for i in range(len(testData)):\n",
    "    testFeatures.append(model.predict(testData[i]))\n",
    "\n",
    "#squeeze 'em\n",
    "trainFeatures = np.squeeze(trainFeatures)\n",
    "testFeatures = np.squeeze(testFeatures)"
   ]
  },
  {
   "cell_type": "code",
   "execution_count": null,
   "metadata": {},
   "outputs": [],
   "source": [
    "#code bellow inspired by https://machinelearningmastery.com/multi-class-classification-tutorial-keras-deep-learning-library/\n",
    "\n",
    "#Creates the classifier\n",
    "def createClassifier():\n",
    "    model = Sequential()\n",
    "    model.add(Dense(2, input_dim=2048, activation='softmax'))\n",
    "    model.compile(optimizer='rmsprop', loss='categorical_crossentropy', metrics=['accuracy'])\n",
    "    return model\n",
    "\n",
    "# encode class values as integers\n",
    "def convertToDummy(labels):\n",
    "    encoder = LabelEncoder()\n",
    "    encoder.fit(labels[:,0])\n",
    "    encoded_Y = encoder.transform(labels[:,0])\n",
    "    # convert integers to dummy variables (i.e. one hot encoded)\n",
    "    dummy_y = np_utils.to_categorical(encoded_Y)\n",
    "    return dummy_y\n",
    "\n",
    "trainDummyLabels = convertToDummy(trainLabels)\n",
    "testDummyLabels = convertToDummy(testLabels)\n",
    "\n",
    "estimator = createClassifier()\n",
    "estimator.fit(trainFeatures, trainDummyLabels, validation_data=(testFeatures, testDummyLabels), epochs=50, batch_size=10)\n"
   ]
  },
  {
   "cell_type": "markdown",
   "metadata": {},
   "source": [
    "## Results"
   ]
  },
  {
   "cell_type": "markdown",
   "metadata": {},
   "source": [
    "## Part 2:\n",
    "### Allowing the entire pretrained network to be trained on the sketches data set"
   ]
  },
  {
   "cell_type": "code",
   "execution_count": null,
   "metadata": {
    "collapsed": true
   },
   "outputs": [],
   "source": [
    "#I'm taking the resnet50 model defined in the previous part and adjustiong to have the classifier added to it.\n",
    "#This will allow the entire network to be trained in one go\n",
    "#code inspired by https://keras.io/applications/#resnet50\n",
    "\n",
    "x = model.output\n",
    "x = GlobalAveragePooling2D()(x)\n",
    "# let's add a fully-connected layer\n",
    "x = Dense(1024, activation='relu')(x)\n",
    "# and a logistic layer -- let's say we have 200 classes\n",
    "predictions = Dense(2, activation='softmax')(x)\n",
    "\n",
    "# this is the model we will train\n",
    "modelWithClassifier = Model(inputs=model.input, outputs=predictions)"
   ]
  },
  {
   "cell_type": "code",
   "execution_count": null,
   "metadata": {},
   "outputs": [],
   "source": [
    "modelWithClassifier.compile(optimizer='rmsprop', loss='categorical_crossentropy', metrics=['accuracy'])\n",
    "\n",
    "#squeeze/ convert to numpy array so the network can take in the data\n",
    "trainData = np.squeeze(np.array(trainData))\n",
    "testData = np.squeeze(np.array(testData))\n",
    "\n",
    "#train the netwrok\n",
    "modelWithClassifier.fit(trainData, trainDummyLabels, validation_data=(testData, testDummyLabels), epochs=50, batch_size=50)"
   ]
  },
  {
   "cell_type": "markdown",
   "metadata": {},
   "source": [
    "## Results:"
   ]
  },
  {
   "cell_type": "markdown",
   "metadata": {},
   "source": [
    "## Part 3:\n",
    "### Initializing the network with _____ and training from scratch on the sketches data set"
   ]
  },
  {
   "cell_type": "code",
   "execution_count": null,
   "metadata": {},
   "outputs": [],
   "source": [
    "modelFromScratch = ResNet50(include_top=True, weights=None, classes=2)\n",
    "modelFromScratch.compile(optimizer='rmsprop', loss='categorical_crossentropy', metrics=['accuracy'])\n",
    "modelFromScratch.fit(trainData, trainDummyLabels, validation_data=(testData, testDummyLabels), epochs=50, batch_size=50)"
   ]
  },
  {
   "cell_type": "markdown",
   "metadata": {},
   "source": [
    "## Results:\n"
   ]
  },
  {
   "cell_type": "code",
   "execution_count": null,
   "metadata": {
    "collapsed": true
   },
   "outputs": [],
   "source": []
  }
 ],
 "metadata": {
  "kernelspec": {
   "display_name": "Python 3",
   "language": "python",
   "name": "python3"
  },
  "language_info": {
   "codemirror_mode": {
    "name": "ipython",
    "version": 3
   },
   "file_extension": ".py",
   "mimetype": "text/x-python",
   "name": "python",
   "nbconvert_exporter": "python",
   "pygments_lexer": "ipython3",
   "version": "3.6.3"
  }
 },
 "nbformat": 4,
 "nbformat_minor": 2
}
